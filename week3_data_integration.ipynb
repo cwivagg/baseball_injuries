{
 "cells": [
  {
   "cell_type": "code",
   "execution_count": null,
   "metadata": {
    "collapsed": true
   },
   "outputs": [],
   "source": [
    "### Improvements to Week 2\n",
    "###    --- parsing temperature\n",
    "###    --- doing extensive row-wise aggregation of pitcher statistics\n",
    "###           (computationally expensive)\n",
    "###           1. whole-career statistics for clustering pitchers by type\n",
    "###           2. bunch-of-recent-game statistics for a more comprehensive look at recent performance/workload\n"
   ]
  },
  {
   "cell_type": "code",
   "execution_count": 1,
   "metadata": {
    "collapsed": true
   },
   "outputs": [],
   "source": [
    "### Setting up the environment.\n",
    "\n",
    "import numpy as np\n",
    "import pandas as pd\n",
    "\n",
    "from datetime import timedelta"
   ]
  },
  {
   "cell_type": "code",
   "execution_count": 2,
   "metadata": {
    "collapsed": false
   },
   "outputs": [],
   "source": [
    "### Reading in the data.\n",
    "\n",
    "#######################################################################################################################\n",
    "\n",
    "# Part 1: Reading in performance/workload records from box score parser.\n",
    "\n",
    "allData = pd.read_csv('db_box_scores_parsed.csv', \\\n",
    "                      header=None, names = ['Name', 'IP', 'H', 'H2', 'R', \\\n",
    "                                           'ER', 'BB', 'SO', 'HR', 'ERA', \\\n",
    "                                           'BF', 'Pit', 'Str', 'Ctct', 'StS', \\\n",
    "                                           'StL', 'GB', 'FB', 'LD', 'Unk', \\\n",
    "                                           'GSc', 'WPA', 'aLI', \\\n",
    "                                           'RE24', 'GameDate'])\n",
    "allData = allData.drop('H2', 1)\n",
    "for c in list(allData):\n",
    "    # Get nicely formatted datetime data for each game. For pitcherFullParse, this is the 24th column.\n",
    "    if c != 'GameDate':\n",
    "        allData[c] = pd.to_numeric(allData[c], errors='ignore')\n",
    "    else:\n",
    "        allData[c] = pd.to_datetime(allData[c], format='%Y%m%d')\n",
    "# Sort by pitcher, then by date. Result is concatenated dataframes of each pitcher's career.\n",
    "allData = allData.sort_values(['Name', 'GameDate'])\n",
    "allData['interceptRow'] = np.ones(len(allData))"
   ]
  },
  {
   "cell_type": "code",
   "execution_count": 3,
   "metadata": {
    "collapsed": true
   },
   "outputs": [],
   "source": [
    "#######################################################################################################################\n",
    "\n",
    "# Part 2: Read in pitcher birthdays from age_db.csv and add to performance/workload records.\n",
    "\n",
    "ageDb = pd.read_csv('db_age.csv', header=None)\n",
    "ageDb[1] = pd.to_datetime(ageDb[1], format='%Y-%m-%d', errors='coerce')\n",
    "allData['birthday'] = pd.NaT #pd.Series(np.zeros(len(allData)), index=allData.index)''\n",
    "pitcherList = allData['Name'].drop_duplicates()\n",
    "for pitcher in pitcherList:\n",
    "    if sum(ageDb[0]==pitcher) > 0:\n",
    "        age = ageDb.loc[ageDb[0]==pitcher,1].values[0]\n",
    "        pl = allData['Name']==pitcher\n",
    "        allData.loc[pl,'birthday'] = pd.Series(age, index=pl.index)\n",
    "allData['ages'] = allData['GameDate'] - allData['birthday']\n",
    "allData['ages'] = pd.to_numeric(allData['ages'].values) / 100000000000000 / 365.25\n",
    "allData[allData.birthday.isnull()].to_csv('rejects.csv')"
   ]
  },
  {
   "cell_type": "code",
   "execution_count": 4,
   "metadata": {
    "collapsed": false
   },
   "outputs": [],
   "source": [
    "#######################################################################################################################\n",
    "\n",
    "# Part 3: Read in injury transfer dates from Disabled List transaction parser.\n",
    "\n",
    "tarData = pd.read_csv('db_dl_history.csv', header=None)\n",
    "tarData[1] = pd.to_datetime(tarData[1], format='%Y%m%d')\n",
    "allData.loc[:,'targets'] = pd.Series(np.zeros(len(allData)), index=allData.index)\n",
    "for i in range(len(tarData)):\n",
    "    dlPitch = tarData.iloc[i,0]\n",
    "    playerSubSet = allData['Name'].str.match(dlPitch,as_indexer=True)\n",
    "    tData = allData.loc[playerSubSet.index[playerSubSet.values],'GameDate']\n",
    "    tData2 = tData < tarData.iloc[i,1]\n",
    "    tData3 = tData2[tData2.values == True]\n",
    "    if sum(tData3) > 1:\n",
    "        allData.loc[tData3.index[-2],'targets'] = 1\n",
    "    else:\n",
    "        x = True"
   ]
  },
  {
   "cell_type": "code",
   "execution_count": 5,
   "metadata": {
    "collapsed": false
   },
   "outputs": [],
   "source": [
    "allData.to_csv('db_mlb_project_week2.csv')"
   ]
  },
  {
   "cell_type": "code",
   "execution_count": null,
   "metadata": {
    "collapsed": true
   },
   "outputs": [],
   "source": []
  }
 ],
 "metadata": {
  "anaconda-cloud": {},
  "kernelspec": {
   "display_name": "Python [default]",
   "language": "python",
   "name": "python2"
  },
  "language_info": {
   "codemirror_mode": {
    "name": "ipython",
    "version": 2
   },
   "file_extension": ".py",
   "mimetype": "text/x-python",
   "name": "python",
   "nbconvert_exporter": "python",
   "pygments_lexer": "ipython2",
   "version": "2.7.12"
  }
 },
 "nbformat": 4,
 "nbformat_minor": 1
}
