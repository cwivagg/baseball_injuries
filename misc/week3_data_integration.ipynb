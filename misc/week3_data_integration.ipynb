{
 "cells": [
  {
   "cell_type": "code",
   "execution_count": null,
   "metadata": {
    "collapsed": true
   },
   "outputs": [],
   "source": [
    "### Improvements to Week 2\n",
    "###    DONE--- parsing temperature\n",
    "###    --- doing extensive row-wise aggregation of pitcher statistics\n",
    "###           (computationally expensive)\n",
    "###           1. whole-career statistics for clustering pitchers by type\n",
    "###           2. bunch-of-recent-game statistics for a more comprehensive look at recent performance/workload\n"
   ]
  },
  {
   "cell_type": "code",
   "execution_count": 1,
   "metadata": {
    "collapsed": true
   },
   "outputs": [],
   "source": [
    "### Setting up the environment.\n",
    "\n",
    "import numpy as np\n",
    "import pandas as pd\n",
    "\n",
    "from datetime import timedelta"
   ]
  },
  {
   "cell_type": "code",
   "execution_count": 2,
   "metadata": {
    "collapsed": false
   },
   "outputs": [],
   "source": [
    "### Reading in the data.\n",
    "\n",
    "#######################################################################################################################\n",
    "\n",
    "# Part 1: Reading in performance/workload records from box score parser.\n",
    "\n",
    "allData = pd.read_csv('parse_012717afternoon.csv', \\\n",
    "                      header=None, names = ['Name', 'IP', 'H', 'H2', 'R', \\\n",
    "                                           'ER', 'BB', 'SO', 'HR', 'ERA', \\\n",
    "                                           'BF', 'Pit', 'Str', 'Ctct', 'StS', \\\n",
    "                                           'StL', 'GB', 'FB', 'LD', 'Unk', \\\n",
    "                                           'GSc', 'WPA', 'aLI', \\\n",
    "                                           'RE24', 'GameDate', 'Temperature'])\n",
    "allData = allData.drop('H2', 1)\n",
    "for c in list(allData):\n",
    "    # Get nicely formatted datetime data for each game. For pitcherFullParse, this is the 24th column.\n",
    "    if c != 'GameDate':\n",
    "        allData[c] = pd.to_numeric(allData[c], errors='ignore')\n",
    "    else:\n",
    "        allData[c] = pd.to_datetime(allData[c], format='%Y%m%d')\n",
    "# Sort by pitcher, then by date. Result is concatenated dataframes of each pitcher's career.\n",
    "allData = allData.sort_values(['Name', 'GameDate'])\n",
    "allData['interceptRow'] = np.ones(len(allData))"
   ]
  },
  {
   "cell_type": "code",
   "execution_count": 3,
   "metadata": {
    "collapsed": false
   },
   "outputs": [],
   "source": [
    "#######################################################################################################################\n",
    "\n",
    "# Part 2: Read in pitcher birthdays from age_db.csv and add to performance/workload records.\n",
    "#    1/30/17 - Now includes calculating several pitcher-specific features.\n",
    "\n",
    "ageDb = pd.read_csv('db_age.csv', header=None)\n",
    "ageDb[1] = pd.to_datetime(ageDb[1], format='%Y-%m-%d', errors='coerce')\n",
    "allData['birthday'] = pd.NaT #pd.Series(np.zeros(len(allData)), index=allData.index)''\n",
    "pitcherList = allData['Name'].drop_duplicates()\n",
    "for pitcher in pitcherList:\n",
    "    if sum(ageDb[0]==pitcher) > 0:\n",
    "    ########## Age Portion    \n",
    "        age = ageDb.loc[ageDb[0]==pitcher,1].values[0]\n",
    "        pl = allData['Name']==pitcher\n",
    "        allData.loc[pl,'birthday'] = pd.Series(age, index=pl.index)\n",
    "    ########## Other personal statistics.\n",
    "        gbPerc = float(allData.loc[pl,'GB'].sum()) / float(allData.loc[pl,'BF'].sum())\n",
    "        KpBF = float(allData.loc[pl,'SO'].sum()) / float(allData.loc[pl,'BF'].sum())\n",
    "        pl2 = np.logical_and(allData['Str']!=np.int64(-1), allData['Name']==pitcher)\n",
    "        paIP = float(allData.loc[pl,'IP'].sum()) / sum(pl)\n",
    "        paERA = float(allData.loc[pl,'ERA'].sum()) / sum(pl)\n",
    "        try:\n",
    "            sPerc = float(allData.loc[pl2,'Str'].sum()) / float(allData.loc[pl2,'Pit'].sum())\n",
    "        except:\n",
    "            sPerc = 0\n",
    "        allData.loc[pl,'carGbPerc'] = pd.Series(gbPerc, index=pl.index)\n",
    "        allData.loc[pl,'carKpBF'] = pd.Series(KpBF, index=pl.index)\n",
    "        allData.loc[pl,'carSPerc'] = pd.Series(sPerc, index=pl.index)\n",
    "        allData.loc[pl,'paIP'] = pd.Series(paIP, index=pl.index)\n",
    "        allData.loc[pl,'paERA'] = pd.Series(paERA, index=pl.index)\n",
    "allData['ages'] = allData['GameDate'] - allData['birthday']\n",
    "allData['ages'] = pd.to_numeric(allData['ages'].values) / 100000000000000 / 365.25\n",
    "allData[allData.birthday.isnull()].to_csv('rejects.csv')\n"
   ]
  },
  {
   "cell_type": "code",
   "execution_count": 4,
   "metadata": {
    "collapsed": true
   },
   "outputs": [],
   "source": [
    "allData.to_csv('db_mlb_project_postPitcherLabor.csv')"
   ]
  },
  {
   "cell_type": "code",
   "execution_count": 41,
   "metadata": {
    "collapsed": false
   },
   "outputs": [
    {
     "name": "stdout",
     "output_type": "stream",
     "text": [
      "      gbPerc   sGbPerc  devGbPerc  devsGbPerc\n",
      "0   0.263158       NaN   0.961887         NaN\n",
      "1   0.304348       NaN   1.112444         NaN\n",
      "2   0.333333       NaN   1.218391         NaN\n",
      "3   0.235294       NaN   0.860041         NaN\n",
      "4   0.200000       NaN   0.731034         NaN\n",
      "5   0.333333       NaN   1.218391         NaN\n",
      "6   0.476190  0.307087   1.119854    0.722174\n",
      "7   0.280000  0.308271   0.658474    0.724958\n",
      "8   0.533333  0.357143   1.254236    0.839890\n",
      "9   0.413793  0.371622   0.973114    0.873940\n",
      "10  0.411765  0.391892   0.968344    0.921610\n",
      "11  0.371429  0.411043   0.873486    0.966647\n",
      "12  0.307692  0.405882   0.723598    0.954511\n",
      "13  0.480000  0.408046   1.128813    0.959599\n",
      "14  0.344828  0.415730   0.810929    0.977670\n",
      "15  0.617647  0.434066   1.452516    1.020790\n",
      "16  0.440000  0.438202   1.034745    1.030517\n",
      "17  0.384615  0.433155   0.904497    1.018648\n",
      "18  0.423077  0.443820   0.994947    1.043729\n",
      "19  0.419355  0.448980   0.986194    1.055862\n",
      "20  0.409091  0.440415   0.962056    1.035720\n",
      "21  0.312500  0.433673   0.734904    1.019867\n",
      "22  0.424242  0.400000   0.997688    0.940677\n",
      "23  0.551724  0.417085   1.297486    0.980857\n",
      "24  0.457143  0.427885   1.075060    1.006253\n"
     ]
    }
   ],
   "source": [
    "# Part 3: Engineered non-personal statistics.\n",
    "#    N.B. Requires cleaning... currently not handling borders between pitchers.\n",
    "\n",
    "allData = allData.set_index(pd.Series(range(len(allData))))\n",
    "\n",
    "allData['sPerc'] = pd.Series(np.zeros(len(allData)), index=allData.index)\n",
    "allData['KpBF'] = pd.Series(np.zeros(len(allData)), index=allData.index)\n",
    "allData['gbPerc'] = pd.Series(np.zeros(len(allData)), index=allData.index)\n",
    "allData[['sPerc','KpBF','gbPerc']] = allData[['Str','SO','GB']].astype(float).values / \\\n",
    "    allData[['Pit','BF','BF']].astype(float).values\n",
    "\n",
    "allData['devIP'] = pd.Series(np.zeros(len(allData)), index=allData.index)\n",
    "allData['devERA'] = pd.Series(np.zeros(len(allData)), index=allData.index)\n",
    "allData['devSPerc'] = pd.Series(np.zeros(len(allData)), index=allData.index)\n",
    "allData['devKpBF'] = pd.Series(np.zeros(len(allData)), index=allData.index)\n",
    "allData['devGbPerc'] = pd.Series(np.zeros(len(allData)), index=allData.index)\n",
    "allData[['devIP','devERA','devSPerc','devKpBF','devGbPerc']] = \\\n",
    "    allData[['IP','ERA','sPerc','KpBF','gbPerc']].values / \\\n",
    "    allData[['paIP','paERA','carSPerc','carKpBF','carGbPerc']].values\n",
    "\n",
    "allData['sIP'] = pd.Series(np.zeros(len(allData)), index=allData.index)\n",
    "allData[['sIP']] = allData[['IP']] + allData[['IP']].shift(1) + allData[['IP']].shift(2) + \\\n",
    "    allData[['IP']].shift(3) + allData[['IP']].shift(4) + allData[['IP']].shift(5) + allData[['IP']].shift(6)\n",
    "\n",
    "allData['sERA'] = pd.Series(np.zeros(len(allData)), index=allData.index)\n",
    "allData['sSPerc'] = pd.Series(np.zeros(len(allData)), index=allData.index)\n",
    "allData['sKpBF'] = pd.Series(np.zeros(len(allData)), index=allData.index)\n",
    "allData['sGbPerc'] = pd.Series(np.zeros(len(allData)), index=allData.index)\n",
    "allData[['sERA','sSPerc','sKpBF','sGbPerc']] = \\\n",
    "    ( allData[['ER','Str','SO','GB']].values + \\\n",
    "    allData[['ER','Str','SO','GB']].shift(1).values + \\\n",
    "    allData[['ER','Str','SO','GB']].shift(2).values + \\\n",
    "    allData[['ER','Str','SO','GB']].shift(3).values + \\\n",
    "    allData[['ER','Str','SO','GB']].shift(4).values + \\\n",
    "    allData[['ER','Str','SO','GB']].shift(5).values + \\\n",
    "    allData[['ER','Str','SO','GB']].shift(6).values ) / \\\n",
    "    ( allData[['IP','Pit','BF','BF']].values + \\\n",
    "    allData[['IP','Pit','BF','BF']].shift(1).values + \\\n",
    "    allData[['IP','Pit','BF','BF']].shift(2).values + \\\n",
    "    allData[['IP','Pit','BF','BF']].shift(3).values + \\\n",
    "    allData[['IP','Pit','BF','BF']].shift(4).values + \\\n",
    "    allData[['IP','Pit','BF','BF']].shift(5).values + \\\n",
    "    allData[['IP','Pit','BF','BF']].shift(6).values )\n",
    "allData[['sERA']] *=9\n",
    "allData[['sIP']] /=7\n",
    "\n",
    "allData['devsIP'] = pd.Series(np.zeros(len(allData)), index=allData.index)\n",
    "allData['devsERA'] = pd.Series(np.zeros(len(allData)), index=allData.index)\n",
    "allData['devsSPerc'] = pd.Series(np.zeros(len(allData)), index=allData.index)\n",
    "allData['devsKpBF'] = pd.Series(np.zeros(len(allData)), index=allData.index)\n",
    "allData['devsGbPerc'] = pd.Series(np.zeros(len(allData)), index=allData.index)\n",
    "allData[['devsIP','devsERA','devsSPerc','devsKpBF','devsGbPerc']] = \\\n",
    "    allData[['sIP','sERA','sSPerc','sKpBF','sGbPerc']].values / \\\n",
    "    allData[['paIP','paERA','carSPerc','carKpBF','carGbPerc']].values\n",
    "\n",
    "#print allData[['gbPerc','sGbPerc','devGbPerc','devsGbPerc']].head(25)"
   ]
  },
  {
   "cell_type": "code",
   "execution_count": 42,
   "metadata": {
    "collapsed": false
   },
   "outputs": [],
   "source": [
    "#######################################################################################################################\n",
    "\n",
    "# Part 4: Read in injury transfer dates from Disabled List transaction parser.\n",
    "\n",
    "tarData = pd.read_csv('db_dl_history.csv', header=None)\n",
    "tarData[1] = pd.to_datetime(tarData[1], format='%Y%m%d')\n",
    "allData.loc[:,'targets'] = pd.Series(np.zeros(len(allData)), index=allData.index)\n",
    "for i in range(len(tarData)):\n",
    "    dlPitch = tarData.iloc[i,0]\n",
    "    playerSubSet = allData['Name'].str.match(dlPitch,as_indexer=True)\n",
    "    tData = allData.loc[playerSubSet.index[playerSubSet.values],'GameDate']\n",
    "    tData2 = tData < tarData.iloc[i,1]\n",
    "    tData3 = tData2[tData2.values == True]\n",
    "    if sum(tData3) > 1:\n",
    "        allData.loc[tData3.index[-2],'targets'] = 1\n",
    "    else:\n",
    "        x = True"
   ]
  },
  {
   "cell_type": "code",
   "execution_count": 43,
   "metadata": {
    "collapsed": false
   },
   "outputs": [],
   "source": [
    "allData.to_csv('db_mlb_project_week2.csv')"
   ]
  },
  {
   "cell_type": "code",
   "execution_count": null,
   "metadata": {
    "collapsed": true
   },
   "outputs": [],
   "source": []
  }
 ],
 "metadata": {
  "anaconda-cloud": {},
  "kernelspec": {
   "display_name": "Python [default]",
   "language": "python",
   "name": "python2"
  },
  "language_info": {
   "codemirror_mode": {
    "name": "ipython",
    "version": 2
   },
   "file_extension": ".py",
   "mimetype": "text/x-python",
   "name": "python",
   "nbconvert_exporter": "python",
   "pygments_lexer": "ipython2",
   "version": "2.7.12"
  }
 },
 "nbformat": 4,
 "nbformat_minor": 1
}
