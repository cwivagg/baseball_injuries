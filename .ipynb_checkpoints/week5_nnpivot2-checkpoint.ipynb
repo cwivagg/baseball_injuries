{
 "cells": [
  {
   "cell_type": "code",
   "execution_count": 1,
   "metadata": {
    "collapsed": true
   },
   "outputs": [],
   "source": [
    "### Setting up the environment.\n",
    "\n",
    "import numpy as np\n",
    "import pandas as pd\n",
    "import datetime"
   ]
  },
  {
   "cell_type": "code",
   "execution_count": 24,
   "metadata": {
    "collapsed": false
   },
   "outputs": [
    {
     "name": "stdout",
     "output_type": "stream",
     "text": [
      "(124949, 39)\n",
      "122963 (121182, 55)\n"
     ]
    }
   ],
   "source": [
    "### Reading in the data.\n",
    "\n",
    "#######################################################################################################################\n",
    "\n",
    "# Part 1: Reading in performance/workload records from box score parser.\n",
    "\n",
    "allData = pd.read_csv('db_mlb_project_weekp4.csv')\n",
    "allData['GameDate'] = pd.to_datetime(allData['GameDate'], format='%Y-%m-%d')\n",
    "                      \n",
    "print allData.shape\n",
    "\n",
    "featureList = ['IP', 'H', 'R', 'ER', 'BB', 'SO', 'HR', 'BF', 'Pit', 'Str', 'Ctct', 'StS', 'StL', 'GB', 'FB', 'LD']\n",
    "lFeatureList = ['lIP', 'lH', 'lR', 'lER', 'lBB', 'lSO', 'lHR', 'lBF', 'lPit', 'lStr', 'lCtct', 'lStS', 'lStL', 'lGB', 'lFB', 'lLD']\n",
    "\n",
    "\n",
    "o = allData[['Name','GameDate']+featureList].shift(-1)\n",
    "u = (o['Name']==allData['Name']) & (o['GameDate']>=(allData['GameDate']-np.timedelta64(7,'D')))\n",
    "allData = allData.loc[u,:]\n",
    "allData[lFeatureList] = o[featureList]\n",
    "allData = allData[allData['targets']!=-1]\n",
    "\n",
    "\n",
    "print sum(u), allData.shape"
   ]
  },
  {
   "cell_type": "code",
   "execution_count": 26,
   "metadata": {
    "collapsed": false
   },
   "outputs": [],
   "source": [
    "mFeatureList = ['mIP', 'mH', 'mR', 'mER', 'mBB', 'mSO', 'mHR', 'mBF', 'mPit', 'mStr', 'mCtct', 'mStS', 'mStL', 'mGB', 'mFB', 'mLD']\n",
    "\n",
    "outData = allData[featureList+lFeatureList+mFeatureList+['targets']]\n",
    "outData.to_csv('db_nn2.csv')"
   ]
  },
  {
   "cell_type": "code",
   "execution_count": 33,
   "metadata": {
    "collapsed": false
   },
   "outputs": [],
   "source": [
    "allData = pd.read_csv('db_nn2.csv')\n",
    "\n",
    "dsFactor = 1\n",
    "train_fraction = 0.7\n",
    "test_fraction = 0.2\n",
    "nb_classes = 2\n",
    " \n",
    "dsInt = dsFactor * int(sum(allData.loc[allData['targets']>0.1,'targets']))\n",
    "\n",
    "dsData = pd.concat([ \\\n",
    "                    allData[allData['targets']>0.1], \\\n",
    "                    allData[allData['targets']<0.1].sample(dsInt) \\\n",
    "                    ])\n",
    "\n",
    "X, Y = dsData.values[:,1:-1], dsData.values[:,-1]\n",
    "for i in range(X.shape[1]):\n",
    "    X[:,i] = X[:,i] / X[:,i].max()\n",
    "train_test_split = np.random.permutation(dsInt + int(dsInt/dsFactor))\n",
    "train_stop = int(train_fraction*len(train_test_split))\n",
    "val_stop = int((train_fraction+test_fraction)*len(train_test_split))\n",
    "X_train, Y_train, X_val, Y_val, X_test, Y_test = \\\n",
    "    X[train_test_split[:train_stop],:], \\\n",
    "    Y[train_test_split[:train_stop]].astype(int), \\\n",
    "    X[train_test_split[train_stop:val_stop],:], \\\n",
    "    Y[train_test_split[train_stop:val_stop]].astype(int), \\\n",
    "    X[train_test_split[val_stop:],:], \\\n",
    "    Y[train_test_split[val_stop:]].astype(int)"
   ]
  },
  {
   "cell_type": "code",
   "execution_count": 36,
   "metadata": {
    "collapsed": false
   },
   "outputs": [
    {
     "ename": "ImportError",
     "evalue": "cannot import name sag",
     "output_type": "error",
     "traceback": [
      "\u001b[0;31m---------------------------------------------------------------------------\u001b[0m",
      "\u001b[0;31mImportError\u001b[0m                               Traceback (most recent call last)",
      "\u001b[0;32m<ipython-input-36-f103c21ec419>\u001b[0m in \u001b[0;36m<module>\u001b[0;34m()\u001b[0m\n\u001b[0;32m----> 1\u001b[0;31m \u001b[0;32mfrom\u001b[0m \u001b[0msklearn\u001b[0m\u001b[0;34m.\u001b[0m\u001b[0mlinear_model\u001b[0m \u001b[0;32mimport\u001b[0m \u001b[0mLogisticRegression\u001b[0m\u001b[0;34m\u001b[0m\u001b[0m\n\u001b[0m\u001b[1;32m      2\u001b[0m \u001b[0;32mfrom\u001b[0m \u001b[0msklearn\u001b[0m\u001b[0;34m.\u001b[0m\u001b[0mmetrics\u001b[0m \u001b[0;32mimport\u001b[0m \u001b[0maccuracy_score\u001b[0m\u001b[0;34m\u001b[0m\u001b[0m\n\u001b[1;32m      3\u001b[0m \u001b[0;34m\u001b[0m\u001b[0m\n\u001b[1;32m      4\u001b[0m \u001b[0mmodel\u001b[0m \u001b[0;34m=\u001b[0m \u001b[0mLogisticRegression\u001b[0m\u001b[0;34m(\u001b[0m\u001b[0;34m)\u001b[0m\u001b[0;34m\u001b[0m\u001b[0m\n\u001b[1;32m      5\u001b[0m \u001b[0mmodel\u001b[0m\u001b[0;34m.\u001b[0m\u001b[0mfit\u001b[0m\u001b[0;34m(\u001b[0m\u001b[0mX_train\u001b[0m\u001b[0;34m,\u001b[0m\u001b[0mY_train\u001b[0m\u001b[0;34m)\u001b[0m\u001b[0;34m\u001b[0m\u001b[0m\n",
      "\u001b[0;32m//anaconda/lib/python2.7/site-packages/sklearn/linear_model/__init__.py\u001b[0m in \u001b[0;36m<module>\u001b[0;34m()\u001b[0m\n\u001b[1;32m     21\u001b[0m \u001b[0;32mfrom\u001b[0m \u001b[0;34m.\u001b[0m\u001b[0msgd_fast\u001b[0m \u001b[0;32mimport\u001b[0m \u001b[0mHinge\u001b[0m\u001b[0;34m,\u001b[0m \u001b[0mLog\u001b[0m\u001b[0;34m,\u001b[0m \u001b[0mModifiedHuber\u001b[0m\u001b[0;34m,\u001b[0m \u001b[0mSquaredLoss\u001b[0m\u001b[0;34m,\u001b[0m \u001b[0mHuber\u001b[0m\u001b[0;34m\u001b[0m\u001b[0m\n\u001b[1;32m     22\u001b[0m \u001b[0;32mfrom\u001b[0m \u001b[0;34m.\u001b[0m\u001b[0mstochastic_gradient\u001b[0m \u001b[0;32mimport\u001b[0m \u001b[0mSGDClassifier\u001b[0m\u001b[0;34m,\u001b[0m \u001b[0mSGDRegressor\u001b[0m\u001b[0;34m\u001b[0m\u001b[0m\n\u001b[0;32m---> 23\u001b[0;31m from .ridge import (Ridge, RidgeCV, RidgeClassifier, RidgeClassifierCV,\n\u001b[0m\u001b[1;32m     24\u001b[0m                     ridge_regression)\n\u001b[1;32m     25\u001b[0m from .logistic import (LogisticRegression, LogisticRegressionCV,\n",
      "\u001b[0;32m//anaconda/lib/python2.7/site-packages/sklearn/linear_model/ridge.py\u001b[0m in \u001b[0;36m<module>\u001b[0;34m()\u001b[0m\n\u001b[1;32m     19\u001b[0m \u001b[0;34m\u001b[0m\u001b[0m\n\u001b[1;32m     20\u001b[0m \u001b[0;32mfrom\u001b[0m \u001b[0;34m.\u001b[0m\u001b[0mbase\u001b[0m \u001b[0;32mimport\u001b[0m \u001b[0mLinearClassifierMixin\u001b[0m\u001b[0;34m,\u001b[0m \u001b[0mLinearModel\u001b[0m\u001b[0;34m,\u001b[0m \u001b[0m_rescale_data\u001b[0m\u001b[0;34m\u001b[0m\u001b[0m\n\u001b[0;32m---> 21\u001b[0;31m \u001b[0;32mfrom\u001b[0m \u001b[0;34m.\u001b[0m\u001b[0msag\u001b[0m \u001b[0;32mimport\u001b[0m \u001b[0msag_solver\u001b[0m\u001b[0;34m\u001b[0m\u001b[0m\n\u001b[0m\u001b[1;32m     22\u001b[0m \u001b[0;32mfrom\u001b[0m \u001b[0;34m.\u001b[0m\u001b[0msag_fast\u001b[0m \u001b[0;32mimport\u001b[0m \u001b[0mget_max_squared_sum\u001b[0m\u001b[0;34m\u001b[0m\u001b[0m\n\u001b[1;32m     23\u001b[0m \u001b[0;32mfrom\u001b[0m \u001b[0;34m.\u001b[0m\u001b[0;34m.\u001b[0m\u001b[0mbase\u001b[0m \u001b[0;32mimport\u001b[0m \u001b[0mRegressorMixin\u001b[0m\u001b[0;34m\u001b[0m\u001b[0m\n",
      "\u001b[0;32m//anaconda/lib/python2.7/site-packages/sklearn/linear_model/sag.py\u001b[0m in \u001b[0;36m<module>\u001b[0;34m()\u001b[0m\n\u001b[1;32m     12\u001b[0m \u001b[0;32mfrom\u001b[0m \u001b[0;34m.\u001b[0m\u001b[0mbase\u001b[0m \u001b[0;32mimport\u001b[0m \u001b[0mmake_dataset\u001b[0m\u001b[0;34m\u001b[0m\u001b[0m\n\u001b[1;32m     13\u001b[0m \u001b[0;32mfrom\u001b[0m \u001b[0;34m.\u001b[0m\u001b[0msgd_fast\u001b[0m \u001b[0;32mimport\u001b[0m \u001b[0mLog\u001b[0m\u001b[0;34m,\u001b[0m \u001b[0mSquaredLoss\u001b[0m\u001b[0;34m\u001b[0m\u001b[0m\n\u001b[0;32m---> 14\u001b[0;31m \u001b[0;32mfrom\u001b[0m \u001b[0;34m.\u001b[0m\u001b[0msag_fast\u001b[0m \u001b[0;32mimport\u001b[0m \u001b[0msag\u001b[0m\u001b[0;34m,\u001b[0m \u001b[0mget_max_squared_sum\u001b[0m\u001b[0;34m\u001b[0m\u001b[0m\n\u001b[0m\u001b[1;32m     15\u001b[0m \u001b[0;34m\u001b[0m\u001b[0m\n\u001b[1;32m     16\u001b[0m \u001b[0;34m\u001b[0m\u001b[0m\n",
      "\u001b[0;31mImportError\u001b[0m: cannot import name sag"
     ]
    }
   ],
   "source": [
    "from sklearn.linear_model import LogisticRegression\n",
    "from sklearn.metrics import accuracy_score\n",
    "\n",
    "model = LogisticRegression()\n",
    "model.fit(X_train,Y_train)\n"
   ]
  },
  {
   "cell_type": "code",
   "execution_count": 19,
   "metadata": {
    "collapsed": false
   },
   "outputs": [
    {
     "name": "stdout",
     "output_type": "stream",
     "text": [
      "brocado01\n",
      "cordofr01\n",
      "paintla01\n",
      "charlno01\n",
      "walldo01\n",
      "hasegsh01\n",
      "myersro01\n",
      "sprinru01\n",
      "whiteri01\n",
      "fettemi01\n",
      "charlno01\n",
      "yanes01\n",
      "barcelo01\n",
      "guarded01\n",
      "silvajo01\n",
      "worreti01\n",
      "buddimi01\n",
      "daviska01\n",
      "schoupe01\n",
      "paintla01\n",
      "lincomi01\n",
      "cormirh01\n",
      "cookde01\n",
      "pichahi01\n",
      "guzmaju01\n",
      "cookde01\n",
      "brocado01\n",
      "walldo01\n",
      "santaju01\n",
      "brockch01\n",
      "rodriri02\n",
      "georgch01\n",
      "daviska01\n",
      "manzajo01\n",
      "robergr01\n",
      "wellsbo01\n",
      "riverma01\n",
      "grimsja01\n",
      "witasja01\n",
      "riverma01\n",
      "holmeda01\n",
      "embreal01\n",
      "robergr01\n",
      "riverma01\n",
      "remlimi01\n",
      "nenro01\n",
      "robergr01\n",
      "isrinja01\n",
      "witasja01\n",
      "embreal01\n",
      "fettemi01\n",
      "stantmi02\n",
      "creekdo01\n",
      "guthrma01\n",
      "holmeda01\n",
      "sprinru01\n",
      "fettemi01\n",
      "politcl01\n",
      "stantmi02\n",
      "paintla01\n",
      "smithda05\n",
      "holmeda01\n",
      "nenro01\n",
      "heredfe01\n",
      "remlimi01\n",
      "wickmbo01\n",
      "willisc01\n",
      "fordbe01\n",
      "wendetu01\n",
      "brocado01\n",
      "lincomi01\n",
      "beltrri01\n",
      "remlimi01\n",
      "hammoch01\n",
      "boehrbr01\n",
      "brocado01\n",
      "parrajo01\n",
      "servisc01\n",
      "willisc01\n",
      "rhodear01\n",
      "klinest02\n",
      "micelda01\n",
      "witasja01\n",
      "guarded01\n",
      "isrinja01\n",
      "heredfe01\n",
      "pulsibi01\n",
      "lincomi01\n",
      "ramirer02\n",
      "remlimi01\n",
      "rodrife01\n",
      "worreti01\n",
      "hawkila01\n",
      "milletr02\n",
      "foulkke01\n",
      "grimsja01\n",
      "santaju01\n",
      "rhodear01\n",
      "micelda01\n",
      "santaju01\n",
      "milletr02\n",
      "martica04\n",
      "witasja01\n",
      "dejeami01\n",
      "brocado01\n",
      "worreti01\n",
      "merckke01\n",
      "santaju01\n",
      "micelda01\n",
      "martica04\n",
      "witasja01\n",
      "foulkke01\n",
      "politcl01\n",
      "willisc01\n",
      "merckke01\n",
      "embreal01\n",
      "worreti01\n",
      "willisc01\n",
      "gordoto01\n",
      "guarded01\n",
      "merckke01\n",
      "gordoto01\n",
      "wickmbo01\n",
      "whiteri01\n",
      "willisc01\n",
      "hawkila01\n",
      "rhodear01\n",
      "guarded01\n",
      "mahayro01\n",
      "owenshe02\n",
      "gordoto01\n",
      "brocado01\n",
      "stantmi02\n",
      "owenshe02\n",
      "whiteri01\n",
      "witasja01\n",
      "bautijo01\n",
      "guarded01\n",
      "sprinru01\n",
      "isrinja01\n",
      "merckke01\n",
      "walkeja01\n",
      "gordoto01\n",
      "foulkke01\n",
      "mahayro01\n",
      "hergema01\n"
     ]
    }
   ],
   "source": [
    "#######################################################################################################################\n",
    "\n",
    "# Part 4: Read in injury transfer dates from Disabled List transaction parser.\n",
    "\n",
    "tarData = pd.read_csv('db_dl_history.csv', header=None)\n",
    "tarData[1] = pd.to_datetime(tarData[1], format='%Y%m%d')\n",
    "allData.loc[:,'targets'] = pd.Series(np.zeros(len(allData)), index=allData.index)\n",
    "for i in range(len(tarData)):\n",
    "    dlPitch = tarData.iloc[i,0]\n",
    "    playerSubSet = allData['Name'].str.match(dlPitch,as_indexer=True)\n",
    "    if playerSubSet.sum()==0:\n",
    "        print dlPitch\n",
    "    tData = allData.loc[playerSubSet.index[playerSubSet.values],'GameDate']\n",
    "    tData2 = tData < tarData.iloc[i,1]\n",
    "    tData3 = tData2[tData2.values == True]\n",
    "    if sum(tData3) > 1:\n",
    "        allData.loc[tData3.index[-2],'targets'] = 1\n",
    "    else:\n",
    "        #print tarData.iloc[i,:]\n",
    "        e = True\n",
    "        \n",
    "#   Set up a use matrix. This will indicate whether a row should be used in the calculation of the preceding statistics for rows below it.\n",
    "gbVar = 31 #days\n",
    "# We will demand that the pitcher pitches five times in the next month. Possibly a higher bar than average, but we want clear targets.\n",
    "\n",
    "o = allData.shift(-5)\n",
    "u = (allData['Name'] == o['Name'])&((allData['GameDate']+np.timedelta64(gbVar,'D'))<o['GameDate'])\n",
    "allData.loc[u,'targets'] = -1"
   ]
  },
  {
   "cell_type": "code",
   "execution_count": 5,
   "metadata": {
    "collapsed": false
   },
   "outputs": [],
   "source": [
    "allData.to_csv('db_mlb_project_weekp4.csv')"
   ]
  },
  {
   "cell_type": "code",
   "execution_count": null,
   "metadata": {
    "collapsed": false
   },
   "outputs": [],
   "source": [
    "print allData.loc[allData['Name']=='alvarwi01','GameDate']"
   ]
  },
  {
   "cell_type": "code",
   "execution_count": 18,
   "metadata": {
    "collapsed": false
   },
   "outputs": [
    {
     "name": "stdout",
     "output_type": "stream",
     "text": [
      "0\n"
     ]
    }
   ],
   "source": [
    "print playerSubSet.sum()"
   ]
  },
  {
   "cell_type": "code",
   "execution_count": null,
   "metadata": {
    "collapsed": false
   },
   "outputs": [],
   "source": [
    "print u.astype(int).sum()"
   ]
  },
  {
   "cell_type": "code",
   "execution_count": null,
   "metadata": {
    "collapsed": true
   },
   "outputs": [],
   "source": []
  }
 ],
 "metadata": {
  "anaconda-cloud": {},
  "kernelspec": {
   "display_name": "Python [default]",
   "language": "python",
   "name": "python2"
  },
  "language_info": {
   "codemirror_mode": {
    "name": "ipython",
    "version": 2
   },
   "file_extension": ".py",
   "mimetype": "text/x-python",
   "name": "python",
   "nbconvert_exporter": "python",
   "pygments_lexer": "ipython2",
   "version": "2.7.12"
  }
 },
 "nbformat": 4,
 "nbformat_minor": 1
}
