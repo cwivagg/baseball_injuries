{
 "cells": [
  {
   "cell_type": "code",
   "execution_count": 1,
   "metadata": {
    "collapsed": true
   },
   "outputs": [],
   "source": [
    "### Improvements to Week 3\n",
    "###    -DONE- Demarcating and not fitting borders\n",
    "###       Not \"done done\", in that we still lose some of Paul Abbott's data because of pandas's bizarre shift behavior.\n",
    "###    -DONE- Eliminating non 2001-8\n",
    "###    -DONE- Eliminating data loss (?)\n",
    "###       No pitchers lost to age. No games lost to unrecorded pitches/strikes.\n"
   ]
  },
  {
   "cell_type": "code",
   "execution_count": 2,
   "metadata": {
    "collapsed": true
   },
   "outputs": [],
   "source": [
    "### Setting up the environment.\n",
    "\n",
    "import numpy as np\n",
    "import pandas as pd\n",
    "import datetime"
   ]
  },
  {
   "cell_type": "code",
   "execution_count": 3,
   "metadata": {
    "collapsed": false
   },
   "outputs": [],
   "source": [
    "### Reading in the data.\n",
    "\n",
    "#######################################################################################################################\n",
    "\n",
    "# Part 1: Reading in performance/workload records from box score parser.\n",
    "\n",
    "allData = pd.read_csv('parse_012717afternoon.csv', \\\n",
    "                      header=None, names = ['Name', 'IP', 'H', 'H2', 'R', \\\n",
    "                                           'ER', 'BB', 'SO', 'HR', 'ERA', \\\n",
    "                                           'BF', 'Pit', 'Str', 'Ctct', 'StS', \\\n",
    "                                           'StL', 'GB', 'FB', 'LD', 'Unk', \\\n",
    "                                           'GSc', 'WPA', 'aLI', \\\n",
    "                                           'RE24', 'GameDate', 'Temperature'])\n",
    "allData = allData.drop('H2', 1)\n",
    "for c in list(allData):\n",
    "    # Get nicely formatted datetime data for each game. For pitcherFullParse, this is the 24th column.\n",
    "    if c != 'GameDate':\n",
    "        allData[c] = pd.to_numeric(allData[c], errors='ignore')\n",
    "    else:\n",
    "        allData[c] = pd.to_datetime(allData[c], format='%Y%m%d')\n",
    "# Sort by pitcher, then by date. Result is concatenated dataframes of each pitcher's career.\n",
    "allData = allData.sort_values(['Name', 'GameDate'])\n",
    "allData['interceptRow'] = np.ones(len(allData))\n",
    "# Remove dates we won't be using. Injury DB only goes from 2001-2008.\n",
    "allData = allData[allData['GameDate']>datetime.date(2001,1,1)]\n",
    "allData = allData[allData['GameDate']<datetime.date(2009,1,1)]\n",
    "# Clean out undesired columns... things we aren't using in current analysis.\n",
    "allData = allData.drop(labels=['R','HR','Ctct','StS','StL','FB','LD','Unk','GSc','WPA','aLI','RE24','Temperature'],axis=1)"
   ]
  },
  {
   "cell_type": "code",
   "execution_count": 4,
   "metadata": {
    "collapsed": false
   },
   "outputs": [],
   "source": [
    "#######################################################################################################################\n",
    "# Part 2: Read in pitcher birthdays from age_db.csv and add to performance/workload records.\n",
    "\n",
    "ageDb = pd.read_csv('db_age.csv', header=None)\n",
    "ageDb[1] = pd.to_datetime(ageDb[1], format='%Y-%m-%d', errors='coerce')\n",
    "allData['birthday'] = pd.NaT #pd.Series(np.zeros(len(allData)), index=allData.index)''\n",
    "pitcherList = allData['Name'].drop_duplicates()\n",
    "for pitcher in pitcherList:\n",
    "    if sum(ageDb[0]==pitcher) > 0:\n",
    "    ########## Age Portion    \n",
    "        age = ageDb.loc[ageDb[0]==pitcher,1].values[0]\n",
    "        pl = allData['Name']==pitcher\n",
    "        allData.loc[pl,'birthday'] = pd.Series(age, index=pl.index)\n",
    "allData['Age'] = allData['GameDate'] - allData['birthday']\n",
    "allData['Age'] = pd.to_numeric(allData['Age'].values) / 100000000000000 / 365.25\n",
    "allData = allData.drop('birthday',axis=1)\n",
    "#allData[allData.birthday.isnull()].to_csv('rejects.csv')"
   ]
  },
  {
   "cell_type": "code",
   "execution_count": 5,
   "metadata": {
    "collapsed": false
   },
   "outputs": [],
   "source": [
    "#######################################################################################################################\n",
    "\n",
    "# Part 3: Calculate other pitcher-specific performance metrics.\n",
    "#    ### notational notes as statistics multiply\n",
    "#        prefices\n",
    "#        m - mean\n",
    "#        c - career total (for quotients, sum numerator over sum denominator, for other quantities, sum)\n",
    "#        f - fraction\n",
    "#        r - recent\n",
    "#        d - deviation from career average\n",
    "\n",
    "for pitcher in pitcherList:\n",
    "    pl = allData['Name']==pitcher\n",
    "    mIP = float(allData.loc[pl,'IP'].sum()) / sum(pl)\n",
    "    cERA = 9*float(allData.loc[pl,'ER'].sum()) / float(allData.loc[pl,'IP'].sum())\n",
    "    cfGB = float(allData.loc[pl,'GB'].sum()) / float(allData.loc[pl,'BF'].sum())\n",
    "    cfSO = float(allData.loc[pl,'SO'].sum()) / float(allData.loc[pl,'BF'].sum())\n",
    "    cfStr = float(allData.loc[pl,'Str'].sum()) / float(allData.loc[pl,'Pit'].sum())\n",
    "    allData.loc[pl,'mIP'] = pd.Series(mIP, index=pl.index)\n",
    "    allData.loc[pl,'cERA'] = pd.Series(cERA, index=pl.index)\n",
    "    allData.loc[pl,'cfGB'] = pd.Series(cfGB, index=pl.index)\n",
    "    allData.loc[pl,'cfSO'] = pd.Series(cfSO, index=pl.index)\n",
    "    allData.loc[pl,'cfStr'] = pd.Series(cfStr, index=pl.index)"
   ]
  },
  {
   "cell_type": "code",
   "execution_count": 6,
   "metadata": {
    "collapsed": true
   },
   "outputs": [],
   "source": [
    "allData.to_csv('db_mlb_project_postPitcherLabor2.csv')"
   ]
  },
  {
   "cell_type": "code",
   "execution_count": 7,
   "metadata": {
    "collapsed": false
   },
   "outputs": [
    {
     "name": "stdout",
     "output_type": "stream",
     "text": [
      "             Name   IP  H  R  ER  BB  SO   ERA  BF  Pit  Str  GB   GameDate  \\\n",
      "21891   abbotpa01  4.1  5  4   3   2   1  6.23  21   83   54   3 2001-04-28   \n",
      "100284  abbotpa01  5.2  4  4   4   2   6  6.30  23   81   48   2 2001-05-04   \n",
      "120514  abbotpa01  5.1  5  2   1   3   6  4.70  23   97   58   2 2001-05-11   \n",
      "100292  abbotpa01  6.1  3  2   2   4  10  4.15  25  100   58   4 2001-05-16   \n",
      "68018   abbotpa01  2.2  9  8   8   1   1  6.66  18   60   36   3 2001-05-22   \n",
      "54399   abbotpa01  9.0  6  3   3   3   6  5.67  34  119   76  12 2001-05-28   \n",
      "100310  abbotpa01  5.0  4  2   2   4   1  5.40  23   98   57   6 2001-06-02   \n",
      "100320  abbotpa01  7.2  5  1   1   3   4  4.70  31  116   71   8 2001-06-08   \n",
      "38581   abbotpa01  7.0  6  1   1   2   6  4.25  28   94   59   9 2001-06-14   \n",
      "83207   abbotpa01  6.0  7  5   5   2   2  4.58  27  105   63   8 2001-06-19   \n",
      "100330  abbotpa01  6.2  4  3   3   3   4  4.52  28  112   67   7 2001-06-24   \n",
      "116264  abbotpa01  6.0  8  4   4   5   5  4.65  31  122   70   8 2001-07-02   \n",
      "58713   abbotpa01  5.2  4  1   1   1   4  4.42  23   87   54   7 2001-07-07   \n",
      "100338  abbotpa01  5.2  6  3   3   1   4  4.45  24   98   62   1 2001-07-12   \n",
      "100348  abbotpa01  6.1  6  1   1   3   7  4.23  26   97   58   6 2001-07-17   \n",
      "68076   abbotpa01  8.0  5  3   3   2   3  4.16  32  109   62   9 2001-07-22   \n",
      "100356  abbotpa01  6.0  5  3   3   2   4  4.18  24   89   56   7 2001-07-27   \n",
      "42898   abbotpa01  6.2  5  1   1   4   6  4.01  29  103   63   6 2001-08-01   \n",
      "34835   abbotpa01  7.0  7  6   6   4   6  4.23  31  124   75  12 2001-08-06   \n",
      "100370  abbotpa01  7.0  5  3   3   5   7  4.21  30  128   79   5 2001-08-11   \n",
      "\n",
      "        interceptRow        Age       mIP      cERA      cfGB      cfSO  \\\n",
      "21891            1.0  29.045859  5.238983  5.648657  0.269391  0.144044   \n",
      "100284           1.0  29.059548  5.238983  5.648657  0.269391  0.144044   \n",
      "120514           1.0  29.075975  5.238983  5.648657  0.269391  0.144044   \n",
      "100292           1.0  29.086927  5.238983  5.648657  0.269391  0.144044   \n",
      "68018            1.0  29.100616  5.238983  5.648657  0.269391  0.144044   \n",
      "54399            1.0  29.114305  5.238983  5.648657  0.269391  0.144044   \n",
      "100310           1.0  29.127995  5.238983  5.648657  0.269391  0.144044   \n",
      "100320           1.0  29.141684  5.238983  5.648657  0.269391  0.144044   \n",
      "38581            1.0  29.155373  5.238983  5.648657  0.269391  0.144044   \n",
      "83207            1.0  29.166324  5.238983  5.648657  0.269391  0.144044   \n",
      "100330           1.0  29.180014  5.238983  5.648657  0.269391  0.144044   \n",
      "116264           1.0  29.199179  5.238983  5.648657  0.269391  0.144044   \n",
      "58713            1.0  29.210130  5.238983  5.648657  0.269391  0.144044   \n",
      "100338           1.0  29.221081  5.238983  5.648657  0.269391  0.144044   \n",
      "100348           1.0  29.234771  5.238983  5.648657  0.269391  0.144044   \n",
      "68076            1.0  29.245722  5.238983  5.648657  0.269391  0.144044   \n",
      "100356           1.0  29.256674  5.238983  5.648657  0.269391  0.144044   \n",
      "42898            1.0  29.270363  5.238983  5.648657  0.269391  0.144044   \n",
      "34835            1.0  29.281314  5.238983  5.648657  0.269391  0.144044   \n",
      "100370           1.0  29.292266  5.238983  5.648657  0.269391  0.144044   \n",
      "\n",
      "           cfStr  \n",
      "21891   0.597789  \n",
      "100284  0.597789  \n",
      "120514  0.597789  \n",
      "100292  0.597789  \n",
      "68018   0.597789  \n",
      "54399   0.597789  \n",
      "100310  0.597789  \n",
      "100320  0.597789  \n",
      "38581   0.597789  \n",
      "83207   0.597789  \n",
      "100330  0.597789  \n",
      "116264  0.597789  \n",
      "58713   0.597789  \n",
      "100338  0.597789  \n",
      "100348  0.597789  \n",
      "68076   0.597789  \n",
      "100356  0.597789  \n",
      "42898   0.597789  \n",
      "34835   0.597789  \n",
      "100370  0.597789  \n"
     ]
    }
   ],
   "source": [
    "print allData.head(20)\n"
   ]
  },
  {
   "cell_type": "code",
   "execution_count": 8,
   "metadata": {
    "collapsed": false
   },
   "outputs": [
    {
     "name": "stdout",
     "output_type": "stream",
     "text": [
      "(38861, 20) (38861, 20) (38861,)\n"
     ]
    }
   ],
   "source": [
    "### Part 4:\n",
    "#   Set up a use matrix. This will indicate whether a row should be used in the calculation of the preceding statistics for rows below it.\n",
    "gbVar = 30 #days\n",
    "# No pitcher has pitched more than six times in the previous month.\n",
    "o1 = allData.shift(1)\n",
    "o2 = allData.shift(2)\n",
    "o3 = allData.shift(3)\n",
    "o4 = allData.shift(4)\n",
    "o5 = allData.shift(5)\n",
    "o6 = allData.shift(6)\n",
    "u1,u2,u3,u4,u5,u6 = ((allData['Name'] == o1['Name'])&((allData['GameDate']-np.timedelta64(gbVar,'D'))<o1['GameDate'])),\\\n",
    "                    ((allData['Name'] == o2['Name'])&((allData['GameDate']-np.timedelta64(gbVar,'D'))<o2['GameDate'])),\\\n",
    "                    ((allData['Name'] == o3['Name'])&((allData['GameDate']-np.timedelta64(gbVar,'D'))<o3['GameDate'])),\\\n",
    "                    ((allData['Name'] == o4['Name'])&((allData['GameDate']-np.timedelta64(gbVar,'D'))<o4['GameDate'])),\\\n",
    "                    ((allData['Name'] == o5['Name'])&((allData['GameDate']-np.timedelta64(gbVar,'D'))<o5['GameDate'])),\\\n",
    "                    ((allData['Name'] == o6['Name'])&((allData['GameDate']-np.timedelta64(gbVar,'D'))<o6['GameDate']))\n",
    "print allData.shape, o1.shape, u1.shape"
   ]
  },
  {
   "cell_type": "code",
   "execution_count": 9,
   "metadata": {
    "collapsed": false
   },
   "outputs": [],
   "source": [
    "allData['rIP'] = allData['IP']+o1['IP']*u1.astype(int)+o2['IP']*u2.astype(int)+\\\n",
    "                               o3['IP']*u3.astype(int)+o4['IP']*u4.astype(int)+\\\n",
    "                               o5['IP']*u5.astype(int)+o6['IP']*u6.astype(int)\n",
    "allData['rBF'] = allData['BF']+o1['BF']*u1.astype(int)+o2['BF']*u2.astype(int)+\\\n",
    "                               o3['BF']*u3.astype(int)+o4['BF']*u4.astype(int)+\\\n",
    "                               o5['BF']*u5.astype(int)+o6['BF']*u6.astype(int)\n",
    "allData['rPit'] = allData['Pit']+o1['Pit']*u1.astype(int)+o2['Pit']*u2.astype(int)+\\\n",
    "                               o3['Pit']*u3.astype(int)+o4['Pit']*u4.astype(int)+\\\n",
    "                               o5['Pit']*u5.astype(int)+o6['Pit']*u6.astype(int)\n",
    "allData['rERA'] = 9*(allData['ER']+o1['ER']*u1.astype(int)+o2['ER']*u2.astype(int)+\\\n",
    "                               o3['ER']*u3.astype(int)+o4['ER']*u4.astype(int)+\\\n",
    "                               o5['ER']*u5.astype(int)+o6['ER']*u6.astype(int)) / allData['rIP']\n",
    "allData['rfGB'] = (allData['GB']+o1['GB']*u1.astype(int)+o2['GB']*u2.astype(int)+\\\n",
    "                               o3['GB']*u3.astype(int)+o4['GB']*u4.astype(int)+\\\n",
    "                               o5['GB']*u5.astype(int)+o6['GB']*u6.astype(int)) / allData['rBF']\n",
    "allData['rfSO'] = (allData['SO']+o1['SO']*u1.astype(int)+o2['SO']*u2.astype(int)+\\\n",
    "                               o3['SO']*u3.astype(int)+o4['SO']*u4.astype(int)+\\\n",
    "                               o5['SO']*u5.astype(int)+o6['SO']*u6.astype(int)) / allData['rBF']\n",
    "allData['rfStr'] = (allData['Str']+o1['Str']*u1.astype(int)+o2['Str']*u2.astype(int)+\\\n",
    "                               o3['Str']*u3.astype(int)+o4['Str']*u4.astype(int)+\\\n",
    "                               o5['Str']*u5.astype(int)+o6['Str']*u6.astype(int)) / allData['rPit']\n",
    "allData['dIP'] = allData['IP'] / allData['mIP']\n",
    "allData['drIP'] = allData['rIP'] / allData['mIP']\n",
    "allData['dERA'] = allData['ERA'] / allData['cERA']\n",
    "allData['drERA'] = allData['rERA'] / allData['cERA']\n",
    "allData['fGB'] = allData['GB'] / allData['BF']\n",
    "allData['dfGB'] = allData['fGB'] / allData['cfGB']\n",
    "allData['drfGB'] = allData['rfGB'] / allData['cfGB']\n",
    "allData['fSO'] = allData['SO'] / allData['BF']\n",
    "allData['dfSO'] = allData['fSO'] / allData['cfSO']\n",
    "allData['drfSO'] = allData['rfSO'] / allData['cfSO']\n",
    "allData['fStr'] = allData['Str'] / allData['Pit']\n",
    "allData['dfStr'] = allData['fStr'] / allData['cfStr']\n",
    "allData['drfStr'] = allData['rfStr'] / allData['cfStr']"
   ]
  },
  {
   "cell_type": "code",
   "execution_count": null,
   "metadata": {
    "collapsed": false
   },
   "outputs": [],
   "source": [
    "#######################################################################################################################\n",
    "\n",
    "# Part 4: Read in injury transfer dates from Disabled List transaction parser.\n",
    "\n",
    "tarData = pd.read_csv('db_dl_history.csv', header=None)\n",
    "tarData[1] = pd.to_datetime(tarData[1], format='%Y%m%d')\n",
    "allData.loc[:,'targets'] = pd.Series(np.zeros(len(allData)), index=allData.index)\n",
    "for i in range(len(tarData)):\n",
    "    dlPitch = tarData.iloc[i,0]\n",
    "    playerSubSet = allData['Name'].str.match(dlPitch,as_indexer=True)\n",
    "    tData = allData.loc[playerSubSet.index[playerSubSet.values],'GameDate']\n",
    "    tData2 = tData < tarData.iloc[i,1]\n",
    "    tData3 = tData2[tData2.values == True]\n",
    "    if sum(tData3) > 1:\n",
    "        allData.loc[tData3.index[-2],'targets'] = 1\n",
    "    else:\n",
    "        print tarData.iloc[i,:]\n",
    "        \n",
    "#   Set up a use matrix. This will indicate whether a row should be used in the calculation of the preceding statistics for rows below it.\n",
    "gbVar = 31 #days\n",
    "# We will demand that the pitcher pitches five times in the next month. Possibly a higher bar than average, but we want clear targets.\n",
    "\n",
    "o = allData.shift(-5)\n",
    "u = (allData['Name'] == o1['Name'])&((allData['GameDate']+np.timedelta64(gbVar,'D'))<o1['GameDate'])\n",
    "allData.iloc[u,'targets'] = -1"
   ]
  },
  {
   "cell_type": "code",
   "execution_count": 11,
   "metadata": {
    "collapsed": false
   },
   "outputs": [],
   "source": [
    "allData.to_csv('db_mlb_project_weekp3.csv')"
   ]
  },
  {
   "cell_type": "code",
   "execution_count": 14,
   "metadata": {
    "collapsed": false
   },
   "outputs": [
    {
     "name": "stdout",
     "output_type": "stream",
     "text": [
      "74746    2002-04-06\n",
      "112054   2002-04-14\n",
      "112094   2002-05-31\n",
      "120700   2002-06-05\n",
      "112106   2002-06-10\n",
      "46792    2002-06-16\n",
      "38749    2002-06-22\n",
      "112118   2002-06-28\n",
      "116440   2002-07-04\n",
      "112130   2002-07-14\n",
      "96420    2003-07-08\n",
      "38933    2003-07-13\n",
      "59064    2003-08-09\n",
      "47016    2003-08-13\n",
      "59070    2003-08-20\n",
      "50526    2003-08-28\n",
      "59088    2003-09-02\n",
      "38975    2003-09-07\n",
      "59092    2003-09-12\n",
      "59102    2003-09-18\n",
      "96478    2003-09-23\n",
      "105036   2003-09-28\n",
      "92235    2004-05-07\n",
      "59142    2004-05-12\n",
      "87949    2004-05-18\n",
      "8494     2004-05-23\n",
      "59152    2004-05-28\n",
      "59188    2004-07-05\n",
      "59198    2004-07-10\n",
      "50644    2004-07-19\n",
      "59208    2004-07-24\n",
      "39095    2004-07-29\n",
      "31045    2004-08-12\n",
      "59226    2004-08-17\n",
      "59236    2004-08-22\n",
      "79457    2004-08-27\n",
      "59254    2004-09-15\n",
      "105250   2005-05-25\n",
      "59318    2005-05-30\n",
      "Name: GameDate, dtype: datetime64[ns]\n"
     ]
    }
   ],
   "source": [
    "print allData.loc[allData['Name']=='alvarwi01','GameDate']"
   ]
  },
  {
   "cell_type": "code",
   "execution_count": null,
   "metadata": {
    "collapsed": true
   },
   "outputs": [],
   "source": []
  }
 ],
 "metadata": {
  "anaconda-cloud": {},
  "kernelspec": {
   "display_name": "Python [default]",
   "language": "python",
   "name": "python2"
  },
  "language_info": {
   "codemirror_mode": {
    "name": "ipython",
    "version": 2
   },
   "file_extension": ".py",
   "mimetype": "text/x-python",
   "name": "python",
   "nbconvert_exporter": "python",
   "pygments_lexer": "ipython2",
   "version": "2.7.12"
  }
 },
 "nbformat": 4,
 "nbformat_minor": 1
}
