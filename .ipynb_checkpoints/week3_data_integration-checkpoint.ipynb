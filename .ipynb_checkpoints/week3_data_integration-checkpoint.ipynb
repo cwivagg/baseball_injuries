{
 "cells": [
  {
   "cell_type": "code",
   "execution_count": null,
   "metadata": {
    "collapsed": true
   },
   "outputs": [],
   "source": [
    "### Improvements to Week 2\n",
    "###    DONE--- parsing temperature\n",
    "###    --- doing extensive row-wise aggregation of pitcher statistics\n",
    "###           (computationally expensive)\n",
    "###           1. whole-career statistics for clustering pitchers by type\n",
    "###           2. bunch-of-recent-game statistics for a more comprehensive look at recent performance/workload\n"
   ]
  },
  {
   "cell_type": "code",
   "execution_count": 1,
   "metadata": {
    "collapsed": true
   },
   "outputs": [],
   "source": [
    "### Setting up the environment.\n",
    "\n",
    "import numpy as np\n",
    "import pandas as pd\n",
    "\n",
    "from datetime import timedelta"
   ]
  },
  {
   "cell_type": "code",
   "execution_count": 2,
   "metadata": {
    "collapsed": false
   },
   "outputs": [],
   "source": [
    "### Reading in the data.\n",
    "\n",
    "#######################################################################################################################\n",
    "\n",
    "# Part 1: Reading in performance/workload records from box score parser.\n",
    "\n",
    "allData = pd.read_csv('parse_012717afternoon.csv', \\\n",
    "                      header=None, names = ['Name', 'IP', 'H', 'H2', 'R', \\\n",
    "                                           'ER', 'BB', 'SO', 'HR', 'ERA', \\\n",
    "                                           'BF', 'Pit', 'Str', 'Ctct', 'StS', \\\n",
    "                                           'StL', 'GB', 'FB', 'LD', 'Unk', \\\n",
    "                                           'GSc', 'WPA', 'aLI', \\\n",
    "                                           'RE24', 'GameDate', 'Temperature'])\n",
    "allData = allData.drop('H2', 1)\n",
    "for c in list(allData):\n",
    "    # Get nicely formatted datetime data for each game. For pitcherFullParse, this is the 24th column.\n",
    "    if c != 'GameDate':\n",
    "        allData[c] = pd.to_numeric(allData[c], errors='ignore')\n",
    "    else:\n",
    "        allData[c] = pd.to_datetime(allData[c], format='%Y%m%d')\n",
    "# Sort by pitcher, then by date. Result is concatenated dataframes of each pitcher's career.\n",
    "allData = allData.sort_values(['Name', 'GameDate'])\n",
    "allData['interceptRow'] = np.ones(len(allData))"
   ]
  },
  {
   "cell_type": "code",
   "execution_count": 3,
   "metadata": {
    "collapsed": false
   },
   "outputs": [],
   "source": [
    "#######################################################################################################################\n",
    "\n",
    "# Part 2: Read in pitcher birthdays from age_db.csv and add to performance/workload records.\n",
    "#    1/30/17 - Now includes calculating several pitcher-specific features.\n",
    "\n",
    "ageDb = pd.read_csv('db_age.csv', header=None)\n",
    "ageDb[1] = pd.to_datetime(ageDb[1], format='%Y-%m-%d', errors='coerce')\n",
    "allData['birthday'] = pd.NaT #pd.Series(np.zeros(len(allData)), index=allData.index)''\n",
    "pitcherList = allData['Name'].drop_duplicates()\n",
    "for pitcher in pitcherList:\n",
    "    if sum(ageDb[0]==pitcher) > 0:\n",
    "    ########## Age Portion    \n",
    "        age = ageDb.loc[ageDb[0]==pitcher,1].values[0]\n",
    "        pl = allData['Name']==pitcher\n",
    "        allData.loc[pl,'birthday'] = pd.Series(age, index=pl.index)\n",
    "    ########## Other personal statistics.\n",
    "        gbPerc = float(allData.loc[pl,'GB'].sum()) / float(allData.loc[pl,'BF'].sum())\n",
    "        KpBF = float(allData.loc[pl,'SO'].sum()) / float(allData.loc[pl,'BF'].sum())\n",
    "        pl2 = np.logical_and(allData['Str']!=np.int64(-1), allData['Name']==pitcher)\n",
    "        paIP = float(allData.loc[pl,'IP'].sum()) / sum(pl)\n",
    "        paERA = float(allData.loc[pl,'ERA'].sum()) / sum(pl)\n",
    "        try:\n",
    "            sPerc = float(allData.loc[pl2,'Str'].sum()) / float(allData.loc[pl2,'Pit'].sum())\n",
    "        except:\n",
    "            sPerc = 0\n",
    "        allData.loc[pl,'carGbPerc'] = pd.Series(gbPerc, index=pl.index)\n",
    "        allData.loc[pl,'carKpBF'] = pd.Series(KpBF, index=pl.index)\n",
    "        allData.loc[pl,'carSPerc'] = pd.Series(sPerc, index=pl.index)\n",
    "        allData.loc[pl,'paIP'] = pd.Series(paIP, index=pl.index)\n",
    "        allData.loc[pl,'paERA'] = pd.Series(paERA, index=pl.index)\n",
    "allData['ages'] = allData['GameDate'] - allData['birthday']\n",
    "allData['ages'] = pd.to_numeric(allData['ages'].values) / 100000000000000 / 365.25\n",
    "allData[allData.birthday.isnull()].to_csv('rejects.csv')"
   ]
  },
  {
   "cell_type": "code",
   "execution_count": 5,
   "metadata": {
    "collapsed": false
   },
   "outputs": [
    {
     "name": "stdout",
     "output_type": "stream",
     "text": [
      "            Name   IP   H  R  ER  BB  SO  HR    ERA  BF     ...          KpBF  \\\n",
      "124924  zitoba01  7.0   5  0   0   1   4   0   3.42  26     ...      0.171496   \n",
      "124925  zitoba01  3.2   6  6   1   1   4   0   3.29  19     ...      0.171496   \n",
      "124926  zitoba01  5.0   6  1   1   4   1   0   3.06  22     ...      0.171496   \n",
      "124927  zitoba01  7.0   4  1   1   0   3   1   2.75  24     ...      0.171496   \n",
      "124928  zitoba01  5.2  12  8   5   2   2   0   3.40  29     ...      0.171496   \n",
      "124929  zitoba01  5.2  11  5   5   2   4   0   3.91  29     ...      0.171496   \n",
      "124930  zitoba01  6.0   7  4   4   1   3   1   4.13  27     ...      0.171496   \n",
      "124931  zitoba01  6.0   3  1   1   6   5   0   3.88  26     ...      0.171496   \n",
      "124932  zitoba01  6.0   7  4   4   3   0   0   4.06  27     ...      0.171496   \n",
      "124933  zitoba01  4.2  11  8   8   1   4   0   4.79  24     ...      0.171496   \n",
      "124934  zitoba01  5.2   6  2   2   3   8   0   4.67  26     ...      0.171496   \n",
      "124935  zitoba01  7.0   6  1   1   2   5   1   4.40  26     ...      0.171496   \n",
      "124936  zitoba01  5.1  10  4   4   2   3   2   4.53  28     ...      0.171496   \n",
      "124937  zitoba01  4.0   7  1   1   1   3   0   4.44  20     ...      0.171496   \n",
      "124938  zitoba01  6.0   7  5   5   4   5   1   4.62  27     ...      0.171496   \n",
      "124939  zitoba01  2.0   4  4   4   2   0   3   4.88  10     ...      0.171496   \n",
      "124940  zitoba01  4.2   6  3   3   3   4   0   4.92  24     ...      0.171496   \n",
      "124941  zitoba01  3.1   5  4   4   2   2   1   5.09  18     ...      0.171496   \n",
      "124942  zitoba01  3.2   7  6   6   2   3   1   5.63  20     ...      0.171496   \n",
      "124943  zitoba01  4.0   9  5   5   1   1   2   5.81  20     ...      0.171496   \n",
      "124944  zitoba01  4.0   4  4   4   3   3   1   5.91  18     ...      0.171496   \n",
      "124945  zitoba01  5.0   4  2   1   0   1   0   5.75  20     ...      0.171496   \n",
      "124946  zitoba01  2.0   6  4   4   1   0   1  18.00  13     ...      0.171496   \n",
      "124947  zitoba01  4.0   4  2   2   4   2   2  10.29  18     ...      0.171496   \n",
      "124948  zychto01  2.2   3  0   0   0   4   0   2.93  11     ...      0.363636   \n",
      "\n",
      "           bPerc  paIP  paERA       ages  cruCuIP  cruCuERA  cruCugbPerc  \\\n",
      "124924  0.383542   1.0    1.0  30.187543     33.4     17.38     1.723375   \n",
      "124925  0.383542   1.0    1.0  30.201232     35.2     16.62     1.723375   \n",
      "124926  0.383542   1.0    1.0  30.214921     32.4     15.72     1.723375   \n",
      "124927  0.383542   1.0    1.0  30.228611     31.4     14.63     1.723375   \n",
      "124928  0.383542   1.0    1.0  30.242300     31.4     17.38     1.723375   \n",
      "124929  0.383542   1.0    1.0  30.253251     29.6     20.78     1.723375   \n",
      "124930  0.383542   1.0    1.0  30.266940     32.6     19.83     1.723375   \n",
      "124931  0.383542   1.0    1.0  30.280630     31.6     20.54     1.723375   \n",
      "124932  0.383542   1.0    1.0  30.294319     34.4     21.13     1.723375   \n",
      "124933  0.383542   1.0    1.0  30.310746     35.4     22.13     1.723375   \n",
      "124934  0.383542   1.0    1.0  30.321697     32.6     24.17     1.723375   \n",
      "124935  0.383542   1.0    1.0  30.332649     32.6     25.44     1.723375   \n",
      "124936  0.383542   1.0    1.0  30.349076     34.4     25.93     1.723375   \n",
      "124937  0.383542   1.0    1.0  30.360027     33.5     26.33     1.723375   \n",
      "124938  0.383542   1.0    1.0  30.373717     31.5     26.89     1.723375   \n",
      "124939  0.383542   1.0    1.0  30.384668     31.5     27.45     1.723375   \n",
      "124940  0.383542   1.0    1.0  30.406571     29.3     27.54     1.723375   \n",
      "124941  0.383542   1.0    1.0  30.422998     28.3     27.79     1.723375   \n",
      "124942  0.383542   1.0    1.0  30.475017     24.4     28.48     1.723375   \n",
      "124943  0.383542   1.0    1.0  30.488706     22.5     29.58     1.723375   \n",
      "124944  0.383542   1.0    1.0  30.505133     22.5     30.95     1.723375   \n",
      "124945  0.383542   1.0    1.0  30.559890     20.5     32.24     1.723375   \n",
      "124946  0.383542   1.0    1.0  32.287474     23.5     33.11     1.723375   \n",
      "124947  0.383542   1.0    1.0  32.298426     21.3     46.19     1.723375   \n",
      "124948  0.307692   1.0    1.0  21.724846     22.2     51.39     1.723375   \n",
      "\n",
      "        cruCuKpBF  cruCubPerc  \n",
      "124924   1.028979    2.301251  \n",
      "124925   1.028979    2.301251  \n",
      "124926   1.028979    2.301251  \n",
      "124927   1.028979    2.301251  \n",
      "124928   1.028979    2.301251  \n",
      "124929   1.028979    2.301251  \n",
      "124930   1.028979    2.301251  \n",
      "124931   1.028979    2.301251  \n",
      "124932   1.028979    2.301251  \n",
      "124933   1.028979    2.301251  \n",
      "124934   1.028979    2.301251  \n",
      "124935   1.028979    2.301251  \n",
      "124936   1.028979    2.301251  \n",
      "124937   1.028979    2.301251  \n",
      "124938   1.028979    2.301251  \n",
      "124939   1.028979    2.301251  \n",
      "124940   1.028979    2.301251  \n",
      "124941   1.028979    2.301251  \n",
      "124942   1.028979    2.301251  \n",
      "124943   1.028979    2.301251  \n",
      "124944   1.028979    2.301251  \n",
      "124945   1.028979    2.301251  \n",
      "124946   1.028979    2.301251  \n",
      "124947   1.028979    2.301251  \n",
      "124948   1.028979    2.301251  \n",
      "\n",
      "[25 rows x 38 columns]\n"
     ]
    }
   ],
   "source": [
    "# Part 3: Engineered non-personal statistics.\n",
    "#    N.B. Requires cleaning... currently not handling borders between pitchers.\n",
    "\n",
    "allData = allData.set_index(pd.Series(range(len(allData))))\n",
    "\n",
    "allData[['devIP','devERA','devSPerc','devKpBF','devGbPerc']] = \\\n",
    "    allData[['devIP','devERA','devSPerc','devKpBF','devGbPerc']] / \\\n",
    "    allData[['paIP','paERA','sPerc','KpBF','gbPerc']]\n",
    "\n",
    "\n",
    "allData[['sIP']] = allData[['IP']] + allData[['IP']].shift(1) + allData[['IP']].shift(2) + \\\n",
    "    allData[['IP']].shift(3) + allData[['IP']].shift(4) + allData[['IP']].shift(5) + allData[['IP']].shift(6)\n",
    "    \n",
    "allData[['sERA','sSPerc','sKpBF','sGbPerc']]\n",
    "    ( allData[['ER','Str','SO','GB']] + \\\n",
    "    allData[['ER','Str','SO','GB']].shift(1) + \\\n",
    "    allData[['ER','Str','SO','GB']].shift(2) + \\\n",
    "    allData[['ER','Str','SO','GB']].shift(3) + \\\n",
    "    allData[['ER','Str','SO','GB']].shift(4) + \\\n",
    "    allData[['ER','Str','SO','GB']].shift(5) + \\\n",
    "    allData[['ER','Str','SO','GB']].shift(6) ) / \\\n",
    "    ( allData[['IP','Pit','BF','BF']] + \\\n",
    "    allData[['IP','Pit','BF','BF']].shift(1) + \\\n",
    "    allData[['IP','Pit','BF','BF']].shift(2) + \\\n",
    "    allData[['IP','Pit','BF','BF']].shift(3) + \\\n",
    "    allData[['IP','Pit','BF','BF']].shift(4) + \\\n",
    "    allData[['IP','Pit','BF','BF']].shift(5) + \\\n",
    "    allData[['IP','Pit','BF','BF']].shift(6) )\n",
    "\n",
    "allData[['devsIP','devsERA','devsSPerc','devsKpBF','devsGbPerc']] = \\\n",
    "    allData[['sIP','sERA','sSPerc','sKpBF','sGbPerc']] / \\\n",
    "    allData[['paIP','paERA','sPerc','KpBF','gbPerc']]\n",
    "\n",
    "print allData.tail(25)"
   ]
  },
  {
   "cell_type": "code",
   "execution_count": null,
   "metadata": {
    "collapsed": false
   },
   "outputs": [],
   "source": [
    "#######################################################################################################################\n",
    "\n",
    "# Part 4: Read in injury transfer dates from Disabled List transaction parser.\n",
    "\n",
    "tarData = pd.read_csv('db_dl_history.csv', header=None)\n",
    "tarData[1] = pd.to_datetime(tarData[1], format='%Y%m%d')\n",
    "allData.loc[:,'targets'] = pd.Series(np.zeros(len(allData)), index=allData.index)\n",
    "for i in range(len(tarData)):\n",
    "    dlPitch = tarData.iloc[i,0]\n",
    "    playerSubSet = allData['Name'].str.match(dlPitch,as_indexer=True)\n",
    "    tData = allData.loc[playerSubSet.index[playerSubSet.values],'GameDate']\n",
    "    tData2 = tData < tarData.iloc[i,1]\n",
    "    tData3 = tData2[tData2.values == True]\n",
    "    if sum(tData3) > 1:\n",
    "        allData.loc[tData3.index[-2],'targets'] = 1\n",
    "    else:\n",
    "        x = True"
   ]
  },
  {
   "cell_type": "code",
   "execution_count": null,
   "metadata": {
    "collapsed": false
   },
   "outputs": [],
   "source": [
    "allData.to_csv('db_mlb_project_week2.csv')"
   ]
  },
  {
   "cell_type": "code",
   "execution_count": null,
   "metadata": {
    "collapsed": true
   },
   "outputs": [],
   "source": []
  }
 ],
 "metadata": {
  "anaconda-cloud": {},
  "kernelspec": {
   "display_name": "Python [default]",
   "language": "python",
   "name": "python2"
  },
  "language_info": {
   "codemirror_mode": {
    "name": "ipython",
    "version": 2
   },
   "file_extension": ".py",
   "mimetype": "text/x-python",
   "name": "python",
   "nbconvert_exporter": "python",
   "pygments_lexer": "ipython2",
   "version": "2.7.12"
  }
 },
 "nbformat": 4,
 "nbformat_minor": 1
}
