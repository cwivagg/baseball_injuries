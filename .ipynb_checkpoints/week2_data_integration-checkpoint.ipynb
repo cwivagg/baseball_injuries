{
 "cells": [
  {
   "cell_type": "code",
   "execution_count": 1,
   "metadata": {
    "collapsed": true
   },
   "outputs": [],
   "source": [
    "### Setting up the environment.\n",
    "\n",
    "import numpy as np\n",
    "import pandas as pd\n",
    "\n",
    "from datetime import timedelta"
   ]
  },
  {
   "cell_type": "code",
   "execution_count": 2,
   "metadata": {
    "collapsed": false
   },
   "outputs": [],
   "source": [
    "### Reading in the data.\n",
    "\n",
    "#######################################################################################################################\n",
    "\n",
    "# Part 1: Reading in performance/workload records from box score parser.\n",
    "\n",
    "allData = pd.read_csv('db_box_scores_parsed.csv', \\\n",
    "                      header=None, names = ['Name', 'IP', 'H', 'H2', 'R', \\\n",
    "                                           'ER', 'BB', 'SO', 'HR', 'ERA', \\\n",
    "                                           'BF', 'Pit', 'Str', 'Ctct', 'StS', \\\n",
    "                                           'StL', 'GB', 'FB', 'LD', 'Unk', \\\n",
    "                                           'GSc', 'WPA', 'aLI', \\\n",
    "                                           'RE24', 'GameDate'])\n",
    "allData = allData.drop('H2', 1)\n",
    "for c in list(allData):\n",
    "    # Get nicely formatted datetime data for each game. For pitcherFullParse, this is the 24th column.\n",
    "    if c != 'GameDate':\n",
    "        allData[c] = pd.to_numeric(allData[c], errors='ignore')\n",
    "    else:\n",
    "        allData[c] = pd.to_datetime(allData[c], format='%Y%m%d')\n",
    "# Sort by pitcher, then by date. Result is concatenated dataframes of each pitcher's career.\n",
    "allData = allData.sort_values(['Name', 'GameDate'])\n",
    "allData['interceptRow'] = np.ones(len(allData))"
   ]
  },
  {
   "cell_type": "code",
   "execution_count": 3,
   "metadata": {
    "collapsed": true
   },
   "outputs": [],
   "source": [
    "#######################################################################################################################\n",
    "\n",
    "# Part 2: Read in pitcher birthdays from age_db.csv and add to performance/workload records.\n",
    "\n",
    "ageDb = pd.read_csv('db_age.csv', header=None)\n",
    "ageDb[1] = pd.to_datetime(ageDb[1], format='%Y-%m-%d', errors='coerce')\n",
    "allData['birthday'] = pd.NaT #pd.Series(np.zeros(len(allData)), index=allData.index)''\n",
    "pitcherList = allData['Name'].drop_duplicates()\n",
    "for pitcher in pitcherList:\n",
    "    if sum(ageDb[0]==pitcher) > 0:\n",
    "        age = ageDb.loc[ageDb[0]==pitcher,1].values[0]\n",
    "        pl = allData['Name']==pitcher\n",
    "        allData.loc[pl,'birthday'] = pd.Series(age, index=pl.index)\n",
    "allData['ages'] = allData['GameDate'] - allData['birthday']\n",
    "allData['ages'] = pd.to_numeric(allData['ages'].values) / 100000000000000 / 365.25\n",
    "allData[allData.birthday.isnull()].to_csv('rejects.csv')"
   ]
  },
  {
   "cell_type": "code",
   "execution_count": 4,
   "metadata": {
    "collapsed": false
   },
   "outputs": [
    {
     "name": "stdout",
     "output_type": "stream",
     "text": [
      "            Name   IP  H  H2  R  ER  BB  SO  HR   ERA   ...     Unk  GSc  \\\n",
      "80759   abadfe01  4.0  4   4  1   1   4   2   0  3.62   ...       0   48   \n",
      "51979   abadfe01  4.1  9   9  6   6   2   1   2  4.83   ...       0   20   \n",
      "93642   abadfe01  4.0  6   6  5   4   3   3   0  5.30   ...       0   32   \n",
      "51989   abadfe01  3.1  4   4  1   1   3   2   0  5.08   ...       0   47   \n",
      "110755  abadfe01  5.0  6   6  3   3   0   6   0  5.11   ...       0   49   \n",
      "\n",
      "          WPA   aLI  RE24   GameDate  interceptRow   birthday       ages  \\\n",
      "80759   0.054  1.33   0.8 2012-08-25           1.0 1985-12-17  23.058179   \n",
      "51979  -0.449  1.05  -3.9 2012-08-31           1.0 1985-12-17  23.071869   \n",
      "93642  -0.310  0.75  -3.2 2012-09-05           1.0 1985-12-17  23.082820   \n",
      "51989  -0.057  1.08  -0.5 2012-09-12           1.0 1985-12-17  23.099247   \n",
      "110755 -0.096  0.86  -0.7 2012-09-18           1.0 1985-12-17  23.115674   \n",
      "\n",
      "        targets  \n",
      "80759       0.0  \n",
      "51979       0.0  \n",
      "93642       0.0  \n",
      "51989       0.0  \n",
      "110755      0.0  \n",
      "\n",
      "[5 rows x 29 columns]\n"
     ]
    }
   ],
   "source": [
    "#######################################################################################################################\n",
    "\n",
    "# Part 3: Read in injury transfer dates from Disabled List transaction parser.\n",
    "\n",
    "tarData = pd.read_csv('db_dl_history.csv', header=None)\n",
    "tarData[1] = pd.to_datetime(tarData[1], format='%Y%m%d')\n",
    "allData.loc[:,'targets'] = pd.Series(np.zeros(len(allData)), index=allData.index)\n",
    "for i in range(len(tarData)):\n",
    "    dlPitch = tarData.iloc[i,0]\n",
    "    playerSubSet = allData['Name'].str.match(dlPitch,as_indexer=True)\n",
    "    tData = allData.loc[playerSubSet.index[playerSubSet.values],'GameDate']\n",
    "    tData2 = tData < tarData.iloc[i,1]\n",
    "    tData3 = tData2[tData2.values == True]\n",
    "    if sum(tData3) > 1:\n",
    "        allData.loc[tData3.index[-2],'targets'] = 1\n",
    "    else:\n",
    "        x = True"
   ]
  },
  {
   "cell_type": "code",
   "execution_count": 5,
   "metadata": {
    "collapsed": false
   },
   "outputs": [],
   "source": [
    "allData.to_csv('db_mlb_project_week2.csv')"
   ]
  },
  {
   "cell_type": "code",
   "execution_count": null,
   "metadata": {
    "collapsed": true
   },
   "outputs": [],
   "source": []
  }
 ],
 "metadata": {
  "anaconda-cloud": {},
  "kernelspec": {
   "display_name": "Python [default]",
   "language": "python",
   "name": "python2"
  },
  "language_info": {
   "codemirror_mode": {
    "name": "ipython",
    "version": 2
   },
   "file_extension": ".py",
   "mimetype": "text/x-python",
   "name": "python",
   "nbconvert_exporter": "python",
   "pygments_lexer": "ipython2",
   "version": "2.7.12"
  }
 },
 "nbformat": 4,
 "nbformat_minor": 1
}
